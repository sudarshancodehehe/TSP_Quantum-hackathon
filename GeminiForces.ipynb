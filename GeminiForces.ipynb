{
  "nbformat": 4,
  "nbformat_minor": 0,
  "metadata": {
    "colab": {
      "provenance": [],
      "include_colab_link": true
    },
    "kernelspec": {
      "name": "python3",
      "display_name": "Python 3"
    },
    "language_info": {
      "name": "python"
    }
  },
  "cells": [
    {
      "cell_type": "markdown",
      "metadata": {
        "id": "view-in-github",
        "colab_type": "text"
      },
      "source": [
        "<a href=\"https://colab.research.google.com/github/Yodapythonpp/GRAVITON2.0-GeminiForces/blob/main/GeminiForces.ipynb\" target=\"_parent\"><img src=\"https://colab.research.google.com/assets/colab-badge.svg\" alt=\"Open In Colab\"/></a>"
      ]
    },
    {
      "cell_type": "markdown",
      "source": [
        "Quantum Implementation"
      ],
      "metadata": {
        "id": "iSqS-4oMVpLz"
      }
    },
    {
      "cell_type": "code",
      "execution_count": 54,
      "metadata": {
        "id": "K2z4mUkySNz2",
        "outputId": "7169fe49-4b81-48a5-dfa5-78783ca3e029",
        "colab": {
          "base_uri": "https://localhost:8080/"
        }
      },
      "outputs": [
        {
          "output_type": "stream",
          "name": "stdout",
          "text": [
            "Requirement already satisfied: qiskit==0.43.0 in /usr/local/lib/python3.10/dist-packages (0.43.0)\n",
            "Requirement already satisfied: qiskit-terra==0.24.0 in /usr/local/lib/python3.10/dist-packages (from qiskit==0.43.0) (0.24.0)\n",
            "Requirement already satisfied: qiskit-aer==0.12.0 in /usr/local/lib/python3.10/dist-packages (from qiskit==0.43.0) (0.12.0)\n",
            "Requirement already satisfied: qiskit-ibmq-provider==0.20.2 in /usr/local/lib/python3.10/dist-packages (from qiskit==0.43.0) (0.20.2)\n",
            "Requirement already satisfied: numpy>=1.16.3 in /usr/local/lib/python3.10/dist-packages (from qiskit-aer==0.12.0->qiskit==0.43.0) (1.23.5)\n",
            "Requirement already satisfied: scipy>=1.0 in /usr/local/lib/python3.10/dist-packages (from qiskit-aer==0.12.0->qiskit==0.43.0) (1.11.4)\n",
            "Requirement already satisfied: requests>=2.19 in /usr/local/lib/python3.10/dist-packages (from qiskit-ibmq-provider==0.20.2->qiskit==0.43.0) (2.31.0)\n",
            "Requirement already satisfied: requests-ntlm<=1.1.0 in /usr/local/lib/python3.10/dist-packages (from qiskit-ibmq-provider==0.20.2->qiskit==0.43.0) (1.1.0)\n",
            "Requirement already satisfied: urllib3>=1.21.1 in /usr/local/lib/python3.10/dist-packages (from qiskit-ibmq-provider==0.20.2->qiskit==0.43.0) (2.0.7)\n",
            "Requirement already satisfied: python-dateutil>=2.8.0 in /usr/local/lib/python3.10/dist-packages (from qiskit-ibmq-provider==0.20.2->qiskit==0.43.0) (2.8.2)\n",
            "Requirement already satisfied: websocket-client>=1.5.1 in /usr/local/lib/python3.10/dist-packages (from qiskit-ibmq-provider==0.20.2->qiskit==0.43.0) (1.7.0)\n",
            "Requirement already satisfied: websockets>=10.0 in /usr/local/lib/python3.10/dist-packages (from qiskit-ibmq-provider==0.20.2->qiskit==0.43.0) (12.0)\n",
            "Requirement already satisfied: rustworkx>=0.12.0 in /usr/local/lib/python3.10/dist-packages (from qiskit-terra==0.24.0->qiskit==0.43.0) (0.14.2)\n",
            "Requirement already satisfied: ply>=3.10 in /usr/local/lib/python3.10/dist-packages (from qiskit-terra==0.24.0->qiskit==0.43.0) (3.11)\n",
            "Requirement already satisfied: psutil>=5 in /usr/local/lib/python3.10/dist-packages (from qiskit-terra==0.24.0->qiskit==0.43.0) (5.9.5)\n",
            "Requirement already satisfied: sympy>=1.3 in /usr/local/lib/python3.10/dist-packages (from qiskit-terra==0.24.0->qiskit==0.43.0) (1.12)\n",
            "Requirement already satisfied: dill>=0.3 in /usr/local/lib/python3.10/dist-packages (from qiskit-terra==0.24.0->qiskit==0.43.0) (0.3.8)\n",
            "Requirement already satisfied: stevedore>=3.0.0 in /usr/local/lib/python3.10/dist-packages (from qiskit-terra==0.24.0->qiskit==0.43.0) (5.2.0)\n",
            "Requirement already satisfied: symengine<0.10,>=0.9 in /usr/local/lib/python3.10/dist-packages (from qiskit-terra==0.24.0->qiskit==0.43.0) (0.9.2)\n",
            "Requirement already satisfied: six>=1.5 in /usr/local/lib/python3.10/dist-packages (from python-dateutil>=2.8.0->qiskit-ibmq-provider==0.20.2->qiskit==0.43.0) (1.16.0)\n",
            "Requirement already satisfied: charset-normalizer<4,>=2 in /usr/local/lib/python3.10/dist-packages (from requests>=2.19->qiskit-ibmq-provider==0.20.2->qiskit==0.43.0) (3.3.2)\n",
            "Requirement already satisfied: idna<4,>=2.5 in /usr/local/lib/python3.10/dist-packages (from requests>=2.19->qiskit-ibmq-provider==0.20.2->qiskit==0.43.0) (3.6)\n",
            "Requirement already satisfied: certifi>=2017.4.17 in /usr/local/lib/python3.10/dist-packages (from requests>=2.19->qiskit-ibmq-provider==0.20.2->qiskit==0.43.0) (2024.2.2)\n",
            "Requirement already satisfied: ntlm-auth>=1.0.2 in /usr/local/lib/python3.10/dist-packages (from requests-ntlm<=1.1.0->qiskit-ibmq-provider==0.20.2->qiskit==0.43.0) (1.5.0)\n",
            "Requirement already satisfied: cryptography>=1.3 in /usr/local/lib/python3.10/dist-packages (from requests-ntlm<=1.1.0->qiskit-ibmq-provider==0.20.2->qiskit==0.43.0) (42.0.5)\n",
            "Requirement already satisfied: pbr!=2.1.0,>=2.0.0 in /usr/local/lib/python3.10/dist-packages (from stevedore>=3.0.0->qiskit-terra==0.24.0->qiskit==0.43.0) (6.0.0)\n",
            "Requirement already satisfied: mpmath>=0.19 in /usr/local/lib/python3.10/dist-packages (from sympy>=1.3->qiskit-terra==0.24.0->qiskit==0.43.0) (1.3.0)\n",
            "Requirement already satisfied: cffi>=1.12 in /usr/local/lib/python3.10/dist-packages (from cryptography>=1.3->requests-ntlm<=1.1.0->qiskit-ibmq-provider==0.20.2->qiskit==0.43.0) (1.16.0)\n",
            "Requirement already satisfied: pycparser in /usr/local/lib/python3.10/dist-packages (from cffi>=1.12->cryptography>=1.3->requests-ntlm<=1.1.0->qiskit-ibmq-provider==0.20.2->qiskit==0.43.0) (2.22)\n",
            "Requirement already satisfied: qiskit-aer==0.12.0 in /usr/local/lib/python3.10/dist-packages (0.12.0)\n",
            "Requirement already satisfied: qiskit-terra>=0.21.0 in /usr/local/lib/python3.10/dist-packages (from qiskit-aer==0.12.0) (0.24.0)\n",
            "Requirement already satisfied: numpy>=1.16.3 in /usr/local/lib/python3.10/dist-packages (from qiskit-aer==0.12.0) (1.23.5)\n",
            "Requirement already satisfied: scipy>=1.0 in /usr/local/lib/python3.10/dist-packages (from qiskit-aer==0.12.0) (1.11.4)\n",
            "Requirement already satisfied: rustworkx>=0.12.0 in /usr/local/lib/python3.10/dist-packages (from qiskit-terra>=0.21.0->qiskit-aer==0.12.0) (0.14.2)\n",
            "Requirement already satisfied: ply>=3.10 in /usr/local/lib/python3.10/dist-packages (from qiskit-terra>=0.21.0->qiskit-aer==0.12.0) (3.11)\n",
            "Requirement already satisfied: psutil>=5 in /usr/local/lib/python3.10/dist-packages (from qiskit-terra>=0.21.0->qiskit-aer==0.12.0) (5.9.5)\n",
            "Requirement already satisfied: sympy>=1.3 in /usr/local/lib/python3.10/dist-packages (from qiskit-terra>=0.21.0->qiskit-aer==0.12.0) (1.12)\n",
            "Requirement already satisfied: dill>=0.3 in /usr/local/lib/python3.10/dist-packages (from qiskit-terra>=0.21.0->qiskit-aer==0.12.0) (0.3.8)\n",
            "Requirement already satisfied: python-dateutil>=2.8.0 in /usr/local/lib/python3.10/dist-packages (from qiskit-terra>=0.21.0->qiskit-aer==0.12.0) (2.8.2)\n",
            "Requirement already satisfied: stevedore>=3.0.0 in /usr/local/lib/python3.10/dist-packages (from qiskit-terra>=0.21.0->qiskit-aer==0.12.0) (5.2.0)\n",
            "Requirement already satisfied: symengine<0.10,>=0.9 in /usr/local/lib/python3.10/dist-packages (from qiskit-terra>=0.21.0->qiskit-aer==0.12.0) (0.9.2)\n",
            "Requirement already satisfied: six>=1.5 in /usr/local/lib/python3.10/dist-packages (from python-dateutil>=2.8.0->qiskit-terra>=0.21.0->qiskit-aer==0.12.0) (1.16.0)\n",
            "Requirement already satisfied: pbr!=2.1.0,>=2.0.0 in /usr/local/lib/python3.10/dist-packages (from stevedore>=3.0.0->qiskit-terra>=0.21.0->qiskit-aer==0.12.0) (6.0.0)\n",
            "Requirement already satisfied: mpmath>=0.19 in /usr/local/lib/python3.10/dist-packages (from sympy>=1.3->qiskit-terra>=0.21.0->qiskit-aer==0.12.0) (1.3.0)\n",
            "Requirement already satisfied: networkx in /usr/local/lib/python3.10/dist-packages (3.2.1)\n",
            "Requirement already satisfied: matplotlib in /usr/local/lib/python3.10/dist-packages (3.7.1)\n",
            "Requirement already satisfied: contourpy>=1.0.1 in /usr/local/lib/python3.10/dist-packages (from matplotlib) (1.2.0)\n",
            "Requirement already satisfied: cycler>=0.10 in /usr/local/lib/python3.10/dist-packages (from matplotlib) (0.12.1)\n",
            "Requirement already satisfied: fonttools>=4.22.0 in /usr/local/lib/python3.10/dist-packages (from matplotlib) (4.50.0)\n",
            "Requirement already satisfied: kiwisolver>=1.0.1 in /usr/local/lib/python3.10/dist-packages (from matplotlib) (1.4.5)\n",
            "Requirement already satisfied: numpy>=1.20 in /usr/local/lib/python3.10/dist-packages (from matplotlib) (1.23.5)\n",
            "Requirement already satisfied: packaging>=20.0 in /usr/local/lib/python3.10/dist-packages (from matplotlib) (24.0)\n",
            "Requirement already satisfied: pillow>=6.2.0 in /usr/local/lib/python3.10/dist-packages (from matplotlib) (9.4.0)\n",
            "Requirement already satisfied: pyparsing>=2.3.1 in /usr/local/lib/python3.10/dist-packages (from matplotlib) (3.1.2)\n",
            "Requirement already satisfied: python-dateutil>=2.7 in /usr/local/lib/python3.10/dist-packages (from matplotlib) (2.8.2)\n",
            "Requirement already satisfied: six>=1.5 in /usr/local/lib/python3.10/dist-packages (from python-dateutil>=2.7->matplotlib) (1.16.0)\n"
          ]
        }
      ],
      "source": [
        "!pip install qiskit==0.43.0\n",
        "!pip install qiskit-aer==0.12.0\n",
        "!pip install networkx\n",
        "!pip install matplotlib"
      ]
    },
    {
      "cell_type": "code",
      "source": [
        "import numpy as np\n",
        "import networkx as nx\n",
        "import random\n",
        "import matplotlib.pyplot as plt\n",
        "from collections import defaultdict\n",
        "from operator import itemgetter\n",
        "from scipy.optimize import minimize\n",
        "from qiskit import QuantumCircuit, QuantumRegister, ClassicalRegister, execute, Aer"
      ],
      "metadata": {
        "id": "OxjnCgWOVGUY"
      },
      "execution_count": 55,
      "outputs": []
    },
    {
      "cell_type": "code",
      "source": [
        "\n",
        "set_of_coordinates = [[1,2],[2,3],[0,2],[1,3],[1,4]]"
      ],
      "metadata": {
        "id": "ZDsyCfHUeAGD"
      },
      "execution_count": 56,
      "outputs": []
    },
    {
      "cell_type": "code",
      "source": [
        "import random\n",
        "\n",
        "# Initialize an empty list to hold the coordinate pairs\n",
        "set_of_coordinates = []\n",
        "\n",
        "# Loop 1000 times to generate 1000 random coordinate pairs\n",
        "for i in range(1000):\n",
        "    # Generate a random x-coordinate (between 0 and 50)\n",
        "    x = random.randint(0, 50)\n",
        "    # Generate a random y-coordinate (between 0 and 50)\n",
        "    y = random.randint(0, 50)\n",
        "    # Append the coordinate pair (x, y) to the list\n",
        "    set_of_coordinates.append((x, y))\n",
        "\n",
        "# Print the list of coordinate pairs\n",
        "print(set_of_coordinates)"
      ],
      "metadata": {
        "colab": {
          "base_uri": "https://localhost:8080/"
        },
        "outputId": "b5fcccb1-2cfa-476b-d7d4-b52a1d6c5c41",
        "id": "xb9bKBkNulDk"
      },
      "execution_count": 57,
      "outputs": [
        {
          "output_type": "stream",
          "name": "stdout",
          "text": [
            "[(43, 48), (29, 5), (41, 4), (39, 46), (33, 11), (22, 41), (25, 20), (37, 14), (0, 35), (2, 22), (7, 18), (31, 35), (6, 7), (1, 48), (26, 39), (34, 33), (7, 49), (3, 31), (9, 45), (43, 18), (26, 24), (19, 30), (40, 6), (22, 29), (12, 45), (5, 21), (26, 48), (26, 6), (27, 11), (1, 47), (23, 30), (24, 16), (24, 33), (44, 27), (27, 22), (0, 42), (18, 35), (12, 37), (44, 11), (16, 36), (4, 36), (42, 38), (49, 24), (2, 25), (24, 0), (24, 38), (12, 7), (31, 23), (5, 17), (49, 49), (22, 39), (37, 37), (45, 15), (9, 18), (3, 37), (5, 12), (48, 17), (18, 50), (36, 6), (25, 47), (43, 4), (49, 49), (39, 19), (35, 29), (29, 1), (15, 21), (47, 30), (4, 33), (20, 27), (37, 3), (33, 15), (28, 15), (2, 3), (47, 15), (2, 46), (39, 0), (18, 45), (16, 4), (25, 38), (43, 22), (1, 48), (6, 10), (32, 17), (31, 49), (1, 4), (41, 39), (46, 48), (23, 49), (24, 40), (4, 5), (32, 3), (29, 25), (0, 15), (41, 24), (6, 46), (46, 28), (21, 20), (46, 2), (16, 34), (9, 38), (26, 17), (18, 47), (47, 23), (36, 48), (17, 39), (30, 33), (34, 0), (31, 35), (33, 50), (38, 22), (18, 31), (49, 6), (7, 28), (32, 19), (50, 38), (31, 49), (36, 20), (2, 4), (36, 4), (5, 29), (4, 50), (35, 25), (35, 10), (7, 15), (17, 3), (42, 21), (12, 12), (20, 41), (27, 28), (34, 21), (33, 2), (16, 24), (7, 4), (38, 50), (8, 0), (45, 23), (29, 20), (20, 0), (19, 37), (37, 37), (5, 2), (26, 14), (4, 13), (26, 17), (18, 11), (23, 3), (19, 12), (48, 50), (9, 27), (32, 37), (30, 25), (14, 5), (32, 24), (6, 10), (48, 14), (40, 32), (1, 5), (13, 8), (43, 0), (46, 24), (50, 25), (50, 13), (44, 5), (8, 12), (9, 10), (42, 14), (0, 14), (33, 25), (44, 3), (36, 19), (18, 12), (49, 36), (13, 23), (29, 4), (25, 40), (22, 19), (13, 42), (42, 13), (11, 20), (26, 8), (39, 47), (10, 18), (11, 31), (26, 43), (3, 36), (48, 37), (39, 41), (32, 9), (24, 43), (44, 15), (40, 30), (42, 6), (41, 0), (39, 26), (33, 19), (27, 25), (29, 34), (45, 2), (7, 26), (21, 49), (44, 37), (50, 22), (30, 47), (19, 10), (2, 33), (11, 8), (48, 32), (17, 10), (0, 27), (37, 20), (43, 23), (39, 2), (5, 27), (1, 46), (2, 15), (5, 45), (7, 14), (38, 35), (4, 39), (29, 8), (24, 15), (9, 12), (5, 1), (26, 18), (28, 33), (33, 12), (34, 35), (36, 49), (14, 33), (15, 17), (37, 36), (22, 50), (15, 15), (1, 25), (33, 13), (47, 37), (50, 2), (10, 21), (1, 6), (26, 20), (46, 12), (38, 18), (16, 50), (1, 5), (40, 14), (2, 30), (29, 3), (19, 3), (25, 36), (18, 17), (50, 43), (19, 42), (28, 12), (8, 27), (25, 44), (39, 28), (38, 38), (36, 6), (47, 28), (41, 43), (2, 41), (44, 39), (33, 37), (31, 44), (14, 11), (11, 16), (31, 31), (5, 37), (12, 48), (50, 47), (0, 42), (1, 24), (3, 32), (23, 47), (7, 32), (7, 12), (24, 30), (13, 7), (6, 26), (0, 35), (23, 9), (11, 9), (4, 30), (35, 48), (19, 2), (40, 28), (45, 45), (2, 42), (4, 39), (16, 25), (18, 42), (19, 8), (38, 19), (31, 31), (16, 43), (3, 14), (27, 11), (27, 40), (34, 1), (36, 30), (35, 40), (20, 10), (7, 16), (22, 8), (47, 41), (11, 36), (47, 45), (7, 47), (11, 7), (28, 37), (16, 11), (13, 31), (17, 0), (36, 42), (5, 8), (38, 15), (18, 43), (50, 7), (1, 33), (21, 9), (7, 48), (27, 10), (41, 41), (14, 41), (5, 36), (9, 41), (8, 16), (43, 6), (10, 27), (39, 46), (38, 34), (35, 44), (1, 36), (21, 25), (23, 49), (16, 4), (26, 6), (31, 31), (20, 20), (42, 41), (35, 0), (48, 45), (31, 29), (39, 5), (1, 40), (50, 50), (31, 33), (3, 32), (40, 37), (27, 48), (9, 46), (16, 46), (37, 8), (21, 25), (14, 43), (49, 0), (48, 21), (21, 25), (48, 13), (26, 39), (25, 23), (3, 12), (50, 2), (25, 7), (44, 23), (44, 13), (19, 30), (17, 49), (48, 2), (2, 9), (41, 8), (23, 35), (30, 47), (38, 29), (0, 44), (36, 39), (32, 11), (49, 30), (14, 26), (41, 50), (27, 0), (43, 3), (40, 49), (9, 1), (29, 31), (37, 13), (9, 40), (44, 14), (10, 2), (6, 13), (29, 48), (46, 11), (5, 45), (3, 28), (37, 44), (39, 40), (16, 28), (24, 11), (25, 2), (0, 0), (23, 6), (14, 6), (6, 15), (50, 10), (36, 24), (29, 20), (8, 41), (27, 9), (15, 28), (24, 16), (31, 40), (22, 7), (3, 40), (38, 26), (37, 7), (13, 19), (25, 35), (8, 46), (47, 20), (26, 6), (48, 43), (13, 32), (21, 30), (42, 9), (18, 15), (0, 18), (29, 37), (20, 27), (49, 50), (31, 35), (28, 4), (16, 41), (26, 4), (39, 38), (27, 7), (13, 3), (11, 11), (46, 28), (10, 1), (35, 8), (9, 17), (26, 24), (37, 44), (27, 2), (18, 5), (22, 25), (13, 46), (8, 6), (13, 39), (44, 2), (36, 13), (50, 28), (19, 42), (33, 32), (19, 9), (50, 11), (8, 21), (39, 10), (24, 14), (24, 36), (4, 7), (6, 35), (18, 8), (46, 8), (45, 46), (50, 29), (17, 38), (10, 36), (43, 17), (44, 34), (30, 14), (22, 24), (9, 9), (31, 0), (31, 22), (8, 23), (17, 9), (4, 12), (28, 34), (47, 36), (21, 6), (9, 18), (3, 8), (14, 43), (8, 45), (10, 22), (29, 40), (35, 16), (34, 2), (12, 16), (8, 0), (21, 10), (26, 14), (37, 25), (10, 24), (50, 50), (27, 19), (23, 19), (16, 21), (0, 26), (37, 15), (7, 37), (21, 50), (28, 33), (25, 48), (20, 34), (22, 1), (4, 32), (12, 17), (20, 16), (14, 34), (48, 37), (30, 18), (42, 49), (8, 31), (47, 17), (30, 17), (8, 47), (2, 28), (9, 36), (41, 50), (33, 17), (2, 48), (24, 31), (29, 10), (27, 13), (14, 12), (13, 47), (14, 4), (26, 26), (17, 1), (34, 1), (4, 18), (29, 34), (30, 16), (20, 20), (14, 18), (41, 5), (7, 38), (2, 6), (16, 30), (50, 16), (35, 30), (8, 1), (25, 15), (32, 8), (22, 27), (18, 18), (48, 11), (8, 2), (11, 31), (30, 0), (18, 14), (19, 17), (5, 17), (32, 13), (49, 24), (45, 6), (13, 44), (19, 49), (40, 4), (39, 48), (11, 39), (11, 23), (1, 26), (1, 19), (1, 3), (15, 2), (35, 46), (48, 50), (38, 46), (39, 39), (41, 5), (30, 50), (43, 38), (5, 37), (19, 46), (5, 46), (31, 49), (16, 24), (37, 5), (37, 25), (4, 42), (37, 50), (10, 25), (49, 44), (22, 31), (48, 49), (14, 19), (31, 10), (5, 37), (16, 27), (44, 47), (21, 27), (13, 39), (20, 9), (11, 36), (29, 25), (30, 32), (11, 17), (34, 36), (3, 24), (22, 42), (19, 15), (44, 14), (1, 27), (26, 30), (8, 16), (3, 17), (2, 37), (30, 5), (9, 32), (18, 14), (24, 11), (7, 19), (9, 20), (30, 14), (14, 10), (24, 13), (25, 41), (34, 23), (40, 22), (25, 34), (16, 34), (1, 3), (35, 3), (32, 6), (37, 50), (26, 45), (33, 36), (50, 28), (21, 2), (0, 39), (33, 42), (28, 3), (15, 22), (36, 48), (32, 7), (36, 15), (26, 41), (31, 23), (34, 14), (9, 40), (18, 8), (14, 27), (26, 41), (11, 43), (21, 49), (18, 16), (36, 43), (34, 29), (32, 16), (2, 34), (32, 33), (33, 3), (11, 11), (16, 8), (15, 29), (14, 38), (35, 1), (49, 25), (18, 48), (18, 13), (5, 39), (43, 13), (8, 15), (50, 24), (42, 15), (9, 4), (10, 18), (2, 43), (3, 44), (9, 3), (22, 10), (49, 49), (50, 36), (46, 22), (47, 47), (18, 35), (29, 13), (31, 0), (2, 33), (44, 45), (32, 0), (13, 3), (3, 3), (15, 16), (21, 33), (39, 47), (25, 27), (46, 37), (32, 38), (0, 13), (31, 4), (16, 49), (27, 38), (26, 11), (34, 28), (15, 50), (35, 47), (17, 50), (11, 43), (18, 45), (2, 18), (41, 47), (0, 10), (8, 35), (9, 0), (6, 28), (27, 28), (31, 27), (39, 41), (18, 6), (24, 18), (35, 14), (32, 9), (40, 38), (7, 18), (12, 39), (43, 27), (40, 1), (4, 13), (17, 13), (21, 15), (22, 31), (41, 43), (20, 34), (17, 23), (5, 13), (0, 47), (46, 39), (30, 50), (45, 49), (8, 31), (28, 14), (10, 46), (37, 47), (25, 0), (26, 36), (42, 6), (12, 42), (26, 26), (2, 22), (19, 12), (13, 19), (30, 8), (47, 29), (6, 17), (8, 25), (8, 48), (9, 3), (18, 45), (40, 7), (13, 46), (41, 17), (8, 19), (50, 7), (15, 3), (41, 35), (38, 8), (50, 31), (31, 41), (7, 14), (8, 33), (22, 20), (17, 0), (18, 46), (41, 2), (8, 27), (28, 8), (23, 34), (37, 29), (48, 47), (14, 35), (34, 49), (45, 6), (46, 6), (43, 11), (37, 2), (50, 8), (31, 42), (48, 20), (36, 18), (23, 3), (41, 2), (36, 47), (44, 13), (1, 3), (38, 49), (24, 24), (24, 44), (32, 27), (30, 25), (2, 16), (7, 42), (30, 27), (11, 22), (39, 9), (16, 5), (20, 3), (34, 33), (1, 37), (23, 45), (21, 32), (29, 44), (50, 28), (0, 38), (13, 23), (45, 36), (20, 42), (35, 6), (45, 6), (26, 36), (1, 12), (8, 9), (14, 44), (27, 17), (50, 38), (11, 10), (12, 9), (36, 41), (44, 42), (1, 18), (2, 18), (42, 17), (49, 46), (49, 49), (26, 29), (43, 49), (49, 2), (17, 50), (24, 43), (17, 22), (48, 14), (23, 40), (0, 37), (50, 1), (3, 41), (35, 41), (36, 16), (12, 25), (28, 11), (28, 34), (26, 13), (28, 40), (26, 29), (19, 39), (20, 16), (35, 36), (46, 4), (21, 22), (32, 16), (26, 28), (48, 43), (8, 10), (5, 22), (15, 3), (37, 24), (42, 37), (44, 49), (34, 15), (49, 42), (14, 35), (1, 40), (39, 16), (13, 20), (31, 48), (14, 9), (16, 4), (23, 11), (41, 13), (12, 4), (42, 35), (5, 43), (27, 45), (45, 31), (13, 46), (0, 41), (14, 17), (32, 32), (1, 24), (48, 31), (10, 11), (7, 48), (37, 21), (47, 22), (39, 31), (40, 10), (43, 43), (47, 0), (19, 26), (25, 43), (41, 7), (27, 23), (30, 29), (44, 46), (35, 42), (32, 6), (23, 1), (1, 40), (10, 50), (45, 41), (14, 3), (40, 44), (42, 45), (40, 19), (20, 37), (37, 39), (10, 35), (34, 3), (22, 29), (24, 10), (39, 27), (9, 40), (21, 8), (32, 35), (32, 41), (6, 41), (41, 12), (19, 32), (4, 46), (22, 26), (30, 23), (10, 42), (22, 25), (32, 13), (36, 12), (23, 41), (11, 25), (27, 10), (14, 19), (29, 17), (41, 1), (11, 37), (33, 16), (22, 10), (16, 27), (39, 25), (41, 41), (4, 33), (8, 46), (17, 26), (44, 0), (40, 37), (0, 36), (28, 6), (27, 36), (37, 27), (17, 2), (5, 46), (37, 43), (14, 10), (27, 4), (15, 6), (10, 1), (10, 39), (5, 36), (3, 47), (5, 24), (19, 27), (33, 46), (13, 40), (35, 25), (25, 42), (24, 27), (23, 1), (49, 24), (29, 45), (49, 22), (23, 49), (50, 8), (10, 26), (13, 49), (30, 2), (39, 28), (26, 5), (14, 15), (11, 2), (30, 41), (41, 44), (12, 18), (17, 14), (44, 44), (47, 0), (14, 10), (10, 10), (29, 25), (24, 2), (9, 44), (25, 2), (6, 35), (4, 26), (40, 22), (2, 3), (25, 17), (36, 20), (50, 29), (17, 46), (2, 8), (15, 34)]\n"
          ]
        }
      ]
    },
    {
      "cell_type": "code",
      "source": [
        "set_of_coordinates = [1,2],[1,3],[0,1],[0,4],[2,3],[2,4]\n",
        "G = nx.Graph()\n",
        "G.add_edges_from(set_of_coordinates)\n",
        "nx.draw(G, pos=nx.bipartite_layout(G, [0,1,2]))"
      ],
      "metadata": {
        "id": "-NeEWyNgVOQD",
        "outputId": "adcdd3fc-9673-45ff-ae6f-daf535524579",
        "colab": {
          "base_uri": "https://localhost:8080/",
          "height": 516
        }
      },
      "execution_count": 61,
      "outputs": [
        {
          "output_type": "display_data",
          "data": {
            "text/plain": [
              "<Figure size 640x480 with 1 Axes>"
            ],
            "image/png": "[encoded data removed]"
          },
          "metadata": {}
        }
      ]
    },
    {
      "cell_type": "code",
      "source": [
        "def append_zz_term(qc, q1, q2, gamma):\n",
        "    qc.cx(q1,q2)\n",
        "    qc.rz(2*gamma, q2)\n",
        "    qc.cx(q1,q2)\n",
        "\n",
        "def append_cost_operator_circuit(qc, G, gamma):\n",
        "    for i, j in G.edges():\n",
        "        append_zz_term(qc, i, j, gamma)"
      ],
      "metadata": {
        "id": "xDRAeAWbVPCk"
      },
      "execution_count": 62,
      "outputs": []
    },
    {
      "cell_type": "code",
      "source": [
        "N = G.number_of_nodes()\n",
        "qc = QuantumCircuit(N)\n",
        "append_cost_operator_circuit(qc, G, np.pi / 3)\n",
        "qc.draw()"
      ],
      "metadata": {
        "id": "qv_W-wm6VSiZ",
        "outputId": "d49dd036-ae2c-46cd-df84-6c94ae1c4382",
        "colab": {
          "base_uri": "https://localhost:8080/",
          "height": 356
        }
      },
      "execution_count": 63,
      "outputs": [
        {
          "output_type": "execute_result",
          "data": {
            "text/plain": [
              "                                                 ┌───┐┌──────────┐┌───┐     »\n",
              "q_0: ────────────────────────────────────────────┤ X ├┤ Rz(2π/3) ├┤ X ├─────»\n",
              "                                                 └─┬─┘└──────────┘└─┬─┘     »\n",
              "q_1: ──■────────────────■────■────────────────■────■────────────────■───────»\n",
              "     ┌─┴─┐┌──────────┐┌─┴─┐  │                │                             »\n",
              "q_2: ┤ X ├┤ Rz(2π/3) ├┤ X ├──┼────────────────┼────■────────────────■────■──»\n",
              "     └───┘└──────────┘└───┘┌─┴─┐┌──────────┐┌─┴─┐┌─┴─┐┌──────────┐┌─┴─┐  │  »\n",
              "q_3: ──────────────────────┤ X ├┤ Rz(2π/3) ├┤ X ├┤ X ├┤ Rz(2π/3) ├┤ X ├──┼──»\n",
              "                           └───┘└──────────┘└───┘└───┘└──────────┘└───┘┌─┴─┐»\n",
              "q_4: ──────────────────────────────────────────────────────────────────┤ X ├»\n",
              "                                                                       └───┘»\n",
              "«                                            \n",
              "«q_0: ───────────────────■────────────────■──\n",
              "«                        │                │  \n",
              "«q_1: ───────────────────┼────────────────┼──\n",
              "«                        │                │  \n",
              "«q_2: ──────────────■────┼────────────────┼──\n",
              "«                   │    │                │  \n",
              "«q_3: ──────────────┼────┼────────────────┼──\n",
              "«     ┌──────────┐┌─┴─┐┌─┴─┐┌──────────┐┌─┴─┐\n",
              "«q_4: ┤ Rz(2π/3) ├┤ X ├┤ X ├┤ Rz(2π/3) ├┤ X ├\n",
              "«     └──────────┘└───┘└───┘└──────────┘└───┘"
            ],
            "text/html": [
              "<pre style=\"word-wrap: normal;white-space: pre;background: #fff0;line-height: 1.1;font-family: &quot;Courier New&quot;,Courier,monospace\">                                                 ┌───┐┌──────────┐┌───┐     »\n",
              "q_0: ────────────────────────────────────────────┤ X ├┤ Rz(2π/3) ├┤ X ├─────»\n",
              "                                                 └─┬─┘└──────────┘└─┬─┘     »\n",
              "q_1: ──■────────────────■────■────────────────■────■────────────────■───────»\n",
              "     ┌─┴─┐┌──────────┐┌─┴─┐  │                │                             »\n",
              "q_2: ┤ X ├┤ Rz(2π/3) ├┤ X ├──┼────────────────┼────■────────────────■────■──»\n",
              "     └───┘└──────────┘└───┘┌─┴─┐┌──────────┐┌─┴─┐┌─┴─┐┌──────────┐┌─┴─┐  │  »\n",
              "q_3: ──────────────────────┤ X ├┤ Rz(2π/3) ├┤ X ├┤ X ├┤ Rz(2π/3) ├┤ X ├──┼──»\n",
              "                           └───┘└──────────┘└───┘└───┘└──────────┘└───┘┌─┴─┐»\n",
              "q_4: ──────────────────────────────────────────────────────────────────┤ X ├»\n",
              "                                                                       └───┘»\n",
              "«                                            \n",
              "«q_0: ───────────────────■────────────────■──\n",
              "«                        │                │  \n",
              "«q_1: ───────────────────┼────────────────┼──\n",
              "«                        │                │  \n",
              "«q_2: ──────────────■────┼────────────────┼──\n",
              "«                   │    │                │  \n",
              "«q_3: ──────────────┼────┼────────────────┼──\n",
              "«     ┌──────────┐┌─┴─┐┌─┴─┐┌──────────┐┌─┴─┐\n",
              "«q_4: ┤ Rz(2π/3) ├┤ X ├┤ X ├┤ Rz(2π/3) ├┤ X ├\n",
              "«     └──────────┘└───┘└───┘└──────────┘└───┘</pre>"
            ]
          },
          "metadata": {},
          "execution_count": 63
        }
      ]
    },
    {
      "cell_type": "code",
      "source": [
        "def append_x_term(qc, q1, beta):\n",
        "    qc.rx(2*beta, q1)\n",
        "\n",
        "def append_mixer_operator_circuit(qc, G, beta):\n",
        "    for n in G.nodes():\n",
        "        append_x_term(qc, n, beta)\n",
        "    return qc"
      ],
      "metadata": {
        "id": "MMS5jqJ7VZha"
      },
      "execution_count": 64,
      "outputs": []
    },
    {
      "cell_type": "code",
      "source": [
        "N = G.number_of_nodes()\n",
        "qc = QuantumCircuit(N)\n",
        "append_mixer_operator_circuit(qc, G, np.pi/3)\n",
        "qc.draw()"
      ],
      "metadata": {
        "id": "FsNyN0aRVb30",
        "outputId": "6d58918c-8dea-4ffc-cfb3-37810f229c51",
        "colab": {
          "base_uri": "https://localhost:8080/",
          "height": 186
        }
      },
      "execution_count": 65,
      "outputs": [
        {
          "output_type": "execute_result",
          "data": {
            "text/plain": [
              "     ┌──────────┐\n",
              "q_0: ┤ Rx(2π/3) ├\n",
              "     ├──────────┤\n",
              "q_1: ┤ Rx(2π/3) ├\n",
              "     ├──────────┤\n",
              "q_2: ┤ Rx(2π/3) ├\n",
              "     ├──────────┤\n",
              "q_3: ┤ Rx(2π/3) ├\n",
              "     ├──────────┤\n",
              "q_4: ┤ Rx(2π/3) ├\n",
              "     └──────────┘"
            ],
            "text/html": [
              "<pre style=\"word-wrap: normal;white-space: pre;background: #fff0;line-height: 1.1;font-family: &quot;Courier New&quot;,Courier,monospace\">     ┌──────────┐\n",
              "q_0: ┤ Rx(2π/3) ├\n",
              "     ├──────────┤\n",
              "q_1: ┤ Rx(2π/3) ├\n",
              "     ├──────────┤\n",
              "q_2: ┤ Rx(2π/3) ├\n",
              "     ├──────────┤\n",
              "q_3: ┤ Rx(2π/3) ├\n",
              "     ├──────────┤\n",
              "q_4: ┤ Rx(2π/3) ├\n",
              "     └──────────┘</pre>"
            ]
          },
          "metadata": {},
          "execution_count": 65
        }
      ]
    },
    {
      "cell_type": "code",
      "source": [
        "def get_qaoa_circuit(G, beta, gamma):\n",
        "    assert(len(beta) == len(gamma))\n",
        "    p = len(beta) # infering number of QAOA steps from the parameters passed\n",
        "    N = G.number_of_nodes()\n",
        "    qc = QuantumCircuit(N,N)\n",
        "    # first, apply a layer of Hadamards\n",
        "    qc.h(range(N))\n",
        "    # second, apply p alternating operators\n",
        "    for i in range(p):\n",
        "        append_cost_operator_circuit(qc, G, beta[i])\n",
        "        append_mixer_operator_circuit(qc, G, gamma[i])\n",
        "    # finally, do not forget to measure the result!\n",
        "    qc.barrier(range(N))\n",
        "    qc.measure(range(N), range(N))\n",
        "    return qc"
      ],
      "metadata": {
        "id": "FSFlS5pvVgtT"
      },
      "execution_count": 66,
      "outputs": []
    },
    {
      "cell_type": "code",
      "source": [
        "qc = get_qaoa_circuit(G,[np.pi/3], [np.pi/2])\n",
        "qc.draw()"
      ],
      "metadata": {
        "id": "GAc9VezYVi5D",
        "outputId": "739d6de5-f189-4a0e-aa97-8b7d529b2563",
        "colab": {
          "base_uri": "https://localhost:8080/",
          "height": 618
        }
      },
      "execution_count": 67,
      "outputs": [
        {
          "output_type": "execute_result",
          "data": {
            "text/plain": [
              "     ┌───┐                                            ┌───┐┌──────────┐┌───┐»\n",
              "q_0: ┤ H ├────────────────────────────────────────────┤ X ├┤ Rz(2π/3) ├┤ X ├»\n",
              "     ├───┤                                            └─┬─┘└──────────┘└─┬─┘»\n",
              "q_1: ┤ H ├──■────────────────■────■────────────────■────■────────────────■──»\n",
              "     ├───┤┌─┴─┐┌──────────┐┌─┴─┐  │                │                        »\n",
              "q_2: ┤ H ├┤ X ├┤ Rz(2π/3) ├┤ X ├──┼────────────────┼────■────────────────■──»\n",
              "     ├───┤└───┘└──────────┘└───┘┌─┴─┐┌──────────┐┌─┴─┐┌─┴─┐┌──────────┐┌─┴─┐»\n",
              "q_3: ┤ H ├──────────────────────┤ X ├┤ Rz(2π/3) ├┤ X ├┤ X ├┤ Rz(2π/3) ├┤ X ├»\n",
              "     ├───┤                      └───┘└──────────┘└───┘└───┘└──────────┘└───┘»\n",
              "q_4: ┤ H ├──────────────────────────────────────────────────────────────────»\n",
              "     └───┘                                                                  »\n",
              "c: 5/═══════════════════════════════════════════════════════════════════════»\n",
              "                                                                            »\n",
              "«                                                     ┌───────┐ ░ ┌─┐         »\n",
              "«q_0: ────────────────────────────■────────────────■──┤ Rx(π) ├─░─┤M├─────────»\n",
              "«     ┌───────┐                   │                │  └───────┘ ░ └╥┘┌─┐      »\n",
              "«q_1: ┤ Rx(π) ├───────────────────┼────────────────┼────────────░──╫─┤M├──────»\n",
              "«     └───────┘                   │   ┌───────┐    │            ░  ║ └╥┘┌─┐   »\n",
              "«q_2: ────■──────────────────■────┼───┤ Rx(π) ├────┼────────────░──╫──╫─┤M├───»\n",
              "«         │     ┌───────┐    │    │   └───────┘    │            ░  ║  ║ └╥┘┌─┐»\n",
              "«q_3: ────┼─────┤ Rx(π) ├────┼────┼────────────────┼────────────░──╫──╫──╫─┤M├»\n",
              "«       ┌─┴─┐  ┌┴───────┴─┐┌─┴─┐┌─┴─┐┌──────────┐┌─┴─┐┌───────┐ ░  ║  ║  ║ └╥┘»\n",
              "«q_4: ──┤ X ├──┤ Rz(2π/3) ├┤ X ├┤ X ├┤ Rz(2π/3) ├┤ X ├┤ Rx(π) ├─░──╫──╫──╫──╫─»\n",
              "«       └───┘  └──────────┘└───┘└───┘└──────────┘└───┘└───────┘ ░  ║  ║  ║  ║ »\n",
              "«c: 5/═════════════════════════════════════════════════════════════╩══╩══╩══╩═»\n",
              "«                                                                  0  1  2  3 »\n",
              "«        \n",
              "«q_0: ───\n",
              "«        \n",
              "«q_1: ───\n",
              "«        \n",
              "«q_2: ───\n",
              "«        \n",
              "«q_3: ───\n",
              "«     ┌─┐\n",
              "«q_4: ┤M├\n",
              "«     └╥┘\n",
              "«c: 5/═╩═\n",
              "«      4 "
            ],
            "text/html": [
              "<pre style=\"word-wrap: normal;white-space: pre;background: #fff0;line-height: 1.1;font-family: &quot;Courier New&quot;,Courier,monospace\">     ┌───┐                                            ┌───┐┌──────────┐┌───┐»\n",
              "q_0: ┤ H ├────────────────────────────────────────────┤ X ├┤ Rz(2π/3) ├┤ X ├»\n",
              "     ├───┤                                            └─┬─┘└──────────┘└─┬─┘»\n",
              "q_1: ┤ H ├──■────────────────■────■────────────────■────■────────────────■──»\n",
              "     ├───┤┌─┴─┐┌──────────┐┌─┴─┐  │                │                        »\n",
              "q_2: ┤ H ├┤ X ├┤ Rz(2π/3) ├┤ X ├──┼────────────────┼────■────────────────■──»\n",
              "     ├───┤└───┘└──────────┘└───┘┌─┴─┐┌──────────┐┌─┴─┐┌─┴─┐┌──────────┐┌─┴─┐»\n",
              "q_3: ┤ H ├──────────────────────┤ X ├┤ Rz(2π/3) ├┤ X ├┤ X ├┤ Rz(2π/3) ├┤ X ├»\n",
              "     ├───┤                      └───┘└──────────┘└───┘└───┘└──────────┘└───┘»\n",
              "q_4: ┤ H ├──────────────────────────────────────────────────────────────────»\n",
              "     └───┘                                                                  »\n",
              "c: 5/═══════════════════════════════════════════════════════════════════════»\n",
              "                                                                            »\n",
              "«                                                     ┌───────┐ ░ ┌─┐         »\n",
              "«q_0: ────────────────────────────■────────────────■──┤ Rx(π) ├─░─┤M├─────────»\n",
              "«     ┌───────┐                   │                │  └───────┘ ░ └╥┘┌─┐      »\n",
              "«q_1: ┤ Rx(π) ├───────────────────┼────────────────┼────────────░──╫─┤M├──────»\n",
              "«     └───────┘                   │   ┌───────┐    │            ░  ║ └╥┘┌─┐   »\n",
              "«q_2: ────■──────────────────■────┼───┤ Rx(π) ├────┼────────────░──╫──╫─┤M├───»\n",
              "«         │     ┌───────┐    │    │   └───────┘    │            ░  ║  ║ └╥┘┌─┐»\n",
              "«q_3: ────┼─────┤ Rx(π) ├────┼────┼────────────────┼────────────░──╫──╫──╫─┤M├»\n",
              "«       ┌─┴─┐  ┌┴───────┴─┐┌─┴─┐┌─┴─┐┌──────────┐┌─┴─┐┌───────┐ ░  ║  ║  ║ └╥┘»\n",
              "«q_4: ──┤ X ├──┤ Rz(2π/3) ├┤ X ├┤ X ├┤ Rz(2π/3) ├┤ X ├┤ Rx(π) ├─░──╫──╫──╫──╫─»\n",
              "«       └───┘  └──────────┘└───┘└───┘└──────────┘└───┘└───────┘ ░  ║  ║  ║  ║ »\n",
              "«c: 5/═════════════════════════════════════════════════════════════╩══╩══╩══╩═»\n",
              "«                                                                  0  1  2  3 »\n",
              "«        \n",
              "«q_0: ───\n",
              "«        \n",
              "«q_1: ───\n",
              "«        \n",
              "«q_2: ───\n",
              "«        \n",
              "«q_3: ───\n",
              "«     ┌─┐\n",
              "«q_4: ┤M├\n",
              "«     └╥┘\n",
              "«c: 5/═╩═\n",
              "«      4 </pre>"
            ]
          },
          "metadata": {},
          "execution_count": 67
        }
      ]
    },
    {
      "cell_type": "code",
      "source": [
        "def invert_counts(counts):\n",
        "    return {k[::-1]:v for k, v in counts.items()}"
      ],
      "metadata": {
        "id": "WzYcYwF_VjS9"
      },
      "execution_count": 68,
      "outputs": []
    },
    {
      "cell_type": "code",
      "source": [
        "backend = Aer.get_backend('qasm_simulator')\n",
        "job = execute(qc, backend)\n",
        "result = job.result()\n",
        "print(invert_counts(result.get_counts()))"
      ],
      "metadata": {
        "id": "sBtTNex4Vo_q",
        "outputId": "c8d34d1a-1ba1-4179-ca05-6f4feb023dee",
        "colab": {
          "base_uri": "https://localhost:8080/"
        }
      },
      "execution_count": 69,
      "outputs": [
        {
          "output_type": "stream",
          "name": "stdout",
          "text": [
            "{'11001': 28, '11110': 31, '10101': 28, '01011': 39, '10010': 32, '10100': 40, '10001': 29, '00011': 28, '11111': 30, '11011': 33, '00001': 27, '01101': 34, '01000': 31, '00101': 32, '11101': 35, '00111': 30, '01001': 39, '10000': 28, '01100': 31, '00100': 30, '00000': 31, '10011': 44, '00010': 35, '00110': 32, '01111': 31, '11010': 38, '01010': 28, '11100': 33, '11000': 30, '10110': 37, '01110': 26, '10111': 24}\n"
          ]
        }
      ]
    },
    {
      "cell_type": "code",
      "source": [
        "import matplotlib.pyplot as plt\n",
        "\n",
        "def plot_bar_graph(data_dict, title=\"Bar Graph\", xlabel=\"Keys\", ylabel=\"Values\"):\n",
        "    keys = list(data_dict.keys())\n",
        "    values = list(data_dict.values())\n",
        "\n",
        "    plt.figure(figsize=(10, 6))  # Set the figure size (width, height) in inches\n",
        "\n",
        "    plt.bar(keys, values, color='skyblue')  # Plotting the bar graph\n",
        "\n",
        "    plt.title(title)  # Set the title of the graph\n",
        "    plt.xlabel(xlabel)  # Set the label for x-axis\n",
        "    plt.ylabel(ylabel)  # Set the label for y-axis\n",
        "\n",
        "    plt.xticks(rotation=45, ha='right')  # Rotate x-axis labels for better readability\n",
        "    plt.tight_layout()  # Adjust layout to prevent clipping of labels\n",
        "\n",
        "    plt.show()  # Display the plot\n",
        "\n",
        "# Example usage:\n",
        "data = invert_counts(result.get_counts())\n",
        "\n",
        "plot_bar_graph(data, title=\"Optimisation\", xlabel=\"Paths\", ylabel=\"Probability\")\n"
      ],
      "metadata": {
        "id": "dx3MjQ63ssnl",
        "outputId": "ab5424da-2e7f-445b-fc57-ac6e1bc8d6a2",
        "colab": {
          "base_uri": "https://localhost:8080/",
          "height": 529
        }
      },
      "execution_count": 70,
      "outputs": [
        {
          "output_type": "display_data",
          "data": {
            "text/plain": [
              "<Figure size 1000x600 with 1 Axes>"
            ],
            "image/png": "[encoded data removed]"
          },
          "metadata": {}
        }
      ]
    },
    {
      "cell_type": "markdown",
      "source": [
        "**Classical Implementation**"
      ],
      "metadata": {
        "id": "oz4v7L6SVV2Q"
      }
    },
    {
      "cell_type": "code",
      "source": [
        "def path_to_coordinates(path):\n",
        "    # Define starting point\n",
        "    x, y = 0, 0\n",
        "    coordinates = [(x, y)]  # Add starting point to coordinates list\n",
        "\n",
        "    # Interpret the path\n",
        "    for step in path:\n",
        "        if step == '0':\n",
        "            x += 1  # Move along x-axis\n",
        "        elif step == '1':\n",
        "            y += 1  # Move along y-axis\n",
        "        coordinates.append((x, y))  # Add current coordinates to the list\n",
        "\n",
        "    return coordinates\n",
        "\n",
        "# Example path\n",
        "path = \"00000\"\n",
        "\n",
        "# Convert path to coordinates\n",
        "coordinates = path_to_coordinates(path)\n",
        "\n",
        "# Print the coordinates of each node\n",
        "for i, coord in enumerate(coordinates):\n",
        "    print(f\"Node {i+1}: {coord}\")"
      ],
      "metadata": {
        "id": "QPBOI4-l6api",
        "outputId": "477ad4dd-9c22-4d56-ef84-b87687e45e85",
        "colab": {
          "base_uri": "https://localhost:8080/"
        }
      },
      "execution_count": 71,
      "outputs": [
        {
          "output_type": "stream",
          "name": "stdout",
          "text": [
            "Node 1: (0, 0)\n",
            "Node 2: (1, 0)\n",
            "Node 3: (2, 0)\n",
            "Node 4: (3, 0)\n",
            "Node 5: (4, 0)\n",
            "Node 6: (5, 0)\n"
          ]
        }
      ]
    },
    {
      "cell_type": "code",
      "source": [
        "import matplotlib.pyplot as plt\n",
        "\n",
        "# Get user input for number of nodes\n",
        "num_nodes = int(input(\"Enter the number of nodes in your graph: \"))\n",
        "\n",
        "# Initialize empty lists for nodes and edges\n",
        "nodes = []\n",
        "edges = []\n",
        "\n",
        "# Get user input for node coordinates (accepting floats)\n",
        "for i in range(num_nodes):\n",
        "    print(f\"Enter coordinates for node {i+1} (x, y): \")\n",
        "    x, y = map(float, input().split(\",\"))  # Split by comma (\",\")\n",
        "\n",
        "    nodes.append((x, y))  # Add coordinates as a tuple\n",
        "\n",
        "# Get user input for edges (optional)\n",
        "has_edges = input(\"Do you want to define edges between nodes? (y/n): \")\n",
        "if has_edges.lower() == 'y':\n",
        "    while True:\n",
        "        print(\"Enter two node coordinates (separated by space) to connect with an edge (or 'q' to quit): \")\n",
        "        edge_input = input()\n",
        "        if edge_input.lower() == 'q':\n",
        "            break\n",
        "        try:\n",
        "            # Convert input coordinates to floats (assuming format \"x y\")\n",
        "            start_x, start_y, end_x, end_y = map(float, edge_input.split())\n",
        "\n",
        "            # Find indices of nodes based on coordinates (assuming unique coordinates)\n",
        "            start_index = -1\n",
        "            end_index = -1\n",
        "            for i, node in enumerate(nodes):\n",
        "                if node[0] == start_x and node[1] == start_y:\n",
        "                    start_index = i\n",
        "                if node[0] == end_x and node[1] == end_y:\n",
        "                    end_index = i\n",
        "\n",
        "            if start_index != -1 and end_index != -1:\n",
        "                edges.append((start_index, end_index))  # Add edge as a tuple of node indices\n",
        "            else:\n",
        "                print(\"Invalid node coordinates. Please enter coordinates that match existing nodes.\")\n",
        "        except ValueError:\n",
        "            print(\"Invalid input. Please enter four space-separated floating-point values (x1 y1 x2 y2).\")\n",
        "\n",
        "# Create the plot\n",
        "fig, ax = plt.subplots()\n",
        "\n",
        "# Draw edges (if any)\n",
        "for start, end in edges:\n",
        "    x_values = [nodes[start][0], nodes[end][0]]\n",
        "    y_values = [nodes[start][1], nodes[end][1]]\n",
        "    ax.plot(x_values, y_values, 'b-o', alpha=0.7)  # Blue line with circle markers\n",
        "\n",
        "    # *Show path labels on edges:*\n",
        "    for i, (x, y) in enumerate(zip(x_values, y_values)):\n",
        "        if i == 0:  # Label start node\n",
        "            ax.text(x, y + 0.1, f\"Node {start+1}\", ha='center', va='center', fontsize=12)\n",
        "        else:  # Label end node\n",
        "            ax.text(x, y + 0.1, f\"Node {end+1}\", ha='center', va='center', fontsize=12)\n",
        "\n",
        "# Draw circles for nodes\n",
        "for node in nodes:\n",
        "    ax.add_patch(plt.Rectangle(xy=node, width=0.8, height=0.8, color='lightblue'))\n",
        "\n",
        "# Add labels for nodes\n",
        "for i, node in enumerate(nodes):\n",
        "    ax.text(node[0], node[1] + 0.1, f\"Node {i+1}\", ha='center', va='center', fontsize=12)\n",
        "\n",
        "# Set limits slightly bigger than node coordinates\n",
        "plt.xlim([min(coord[0] for coord in nodes) - 0.5, max(coord[0] for coord in nodes) + 0.5])\n",
        "plt.ylim([min(coord[1] for coord in nodes) - 0.5, max(coord[1] for coord in nodes) + 0.5])\n",
        "\n",
        "# Set axes\n",
        "plt.xlabel('X')\n",
        "plt.ylabel('Y')\n",
        "\n",
        "# Set title\n",
        "plt.title('User-defined Graph with Paths')\n",
        "\n",
        "plt.show()"
      ],
      "metadata": {
        "id": "E27YlkDmE6EI",
        "outputId": "ed370504-86c2-42e8-b11e-d717b32a9af1",
        "colab": {
          "base_uri": "https://localhost:8080/",
          "height": 715
        }
      },
      "execution_count": 72,
      "outputs": [
        {
          "name": "stdout",
          "output_type": "stream",
          "text": [
            "Enter the number of nodes in your graph: 3\n",
            "Enter coordinates for node 1 (x, y): \n",
            "1,2\n",
            "Enter coordinates for node 2 (x, y): \n",
            "0,1\n",
            "Enter coordinates for node 3 (x, y): \n",
            "1,3\n",
            "Do you want to define edges between nodes? (y/n): y\n",
            "Enter two node coordinates (separated by space) to connect with an edge (or 'q' to quit): \n",
            "1 2 0 1\n",
            "Enter two node coordinates (separated by space) to connect with an edge (or 'q' to quit): \n",
            "1 2 1 3\n",
            "Enter two node coordinates (separated by space) to connect with an edge (or 'q' to quit): \n",
            "q\n"
          ]
        },
        {
          "output_type": "display_data",
          "data": {
            "text/plain": [
              "<Figure size 640x480 with 1 Axes>"
            ],
            "image/png": "[encoded data removed]"
          },
          "metadata": {}
        }
      ]
    },
    {
      "cell_type": "code",
      "source": [
        "\n",
        "import matplotlib.pyplot as plt\n",
        "\n",
        "# Get user input for number of nodes\n",
        "num_nodes = int(input(\"Enter the number of nodes in your graph: \"))\n",
        "\n",
        "# Initialize empty lists for nodes and edges\n",
        "nodes = []\n",
        "edges = []\n",
        "\n",
        "# Get user input for node coordinates (accepting floats)\n",
        "for i in range(num_nodes):\n",
        "    print(f\"Enter coordinates for node {i+1} (x, y): \")\n",
        "    x, y = map(float, input().split(\",\"))  # Split by comma (\",\")\n",
        "\n",
        "    nodes.append((x, y))  # Add coordinates as a tuple\n",
        "\n",
        "# Get user input for edges (optional)\n",
        "has_edges = input(\"Do you want to define edges between nodes? (y/n): \")\n",
        "if has_edges.lower() == 'y':\n",
        "    while True:\n",
        "        print(\"Enter two node coordinates (separated by space) to connect with an edge (or 'q' to quit): \")\n",
        "        edge_input = input()\n",
        "        if edge_input.lower() == 'q':\n",
        "            break\n",
        "        try:\n",
        "            # Convert input coordinates to floats (assuming format \"x y\")\n",
        "            start_x, start_y, end_x, end_y = map(float, edge_input.split())\n",
        "\n",
        "            # Find indices of nodes based on coordinates (assuming unique coordinates)\n",
        "            start_index = -1\n",
        "            end_index = -1\n",
        "            for i, node in enumerate(nodes):\n",
        "                if node[0] == start_x and node[1] == start_y:\n",
        "                    start_index = i\n",
        "                if node[0] == end_x and node[1] == end_y:\n",
        "                    end_index = i\n",
        "\n",
        "            if start_index != -1 and end_index != -1:\n",
        "                edges.append((start_index, end_index))  # Add edge as a tuple of node indices\n",
        "            else:\n",
        "                print(\"Invalid node coordinates. Please enter coordinates that match existing nodes.\")\n",
        "        except ValueError:\n",
        "            print(\"Invalid input. Please enter four space-separated floating-point values (x1 y1 x2 y2).\")\n",
        "\n",
        "# Create the plot\n",
        "fig, ax = plt.subplots()\n",
        "\n",
        "# Draw edges (if any)\n",
        "for start, end in edges:\n",
        "    x_values = [nodes[start][0], nodes[end][0]]\n",
        "    y_values = [nodes[start][1], nodes[end][1]]\n",
        "    ax.plot(x_values, y_values, 'b-o', alpha=0.7)  # Blue line with circle markers\n",
        "\n",
        "    # *Show path labels on edges:*\n",
        "    for i, (x, y) in enumerate(zip(x_values, y_values)):\n",
        "        if i == 0:  # Label start node\n",
        "            ax.text(x, y + 0.1, f\"Node {start+1}\", ha='center', va='center', fontsize=12)\n",
        "        else:  # Label end node\n",
        "            ax.text(x, y + 0.1, f\"Node {end+1}\", ha='center', va='center', fontsize=12)\n",
        "\n",
        "\n",
        "\n",
        "\n",
        "# Draw rectangles for nodes (modified for grey rectangles of 0.4*0.4)\n",
        "for node in nodes:\n",
        "    ax.add_patch(plt.Rectangle(xy=node, width=0.4, height=0.4, color='grey'))\n",
        "      # Changed color and dimensions\n",
        "for i, node in enumerate(nodes):\n",
        "    ax.text(node[0], node[1] + 0.1, f\"Node {i+1}\", ha='center', va='center', fontsize=12)\n",
        "\n",
        "# Set limits slightly bigger than node coordinates\n",
        "plt.xlim([min(coord[0] for coord in nodes) - 0.5, max(coord[0] for coord in nodes) + 0.5])\n",
        "plt.ylim([min(coord[1] for coord in nodes) - 0.5, max(coord[1] for coord in nodes) + 0.5])\n",
        "\n",
        "# Set axes\n",
        "plt.xlabel('X')\n",
        "plt.ylabel('Y')\n",
        "\n",
        "# Set title\n",
        "plt.title('User-defined Graph with Paths')\n",
        "\n",
        "plt.show()\n",
        "\n",
        "\n",
        "\n"
      ],
      "metadata": {
        "id": "tYhwkRCFE3rF",
        "outputId": "a38880f2-c550-4fea-e25b-719b3b5942b9",
        "colab": {
          "base_uri": "https://localhost:8080/",
          "height": 715
        }
      },
      "execution_count": 75,
      "outputs": [
        {
          "name": "stdout",
          "output_type": "stream",
          "text": [
            "Enter the number of nodes in your graph: 3\n",
            "Enter coordinates for node 1 (x, y): \n",
            "1,2\n",
            "Enter coordinates for node 2 (x, y): \n",
            "2,3\n",
            "Enter coordinates for node 3 (x, y): \n",
            "0,1\n",
            "Do you want to define edges between nodes? (y/n): y\n",
            "Enter two node coordinates (separated by space) to connect with an edge (or 'q' to quit): \n",
            "1 2 2 3\n",
            "Enter two node coordinates (separated by space) to connect with an edge (or 'q' to quit): \n",
            "2 3 0 1\n",
            "Enter two node coordinates (separated by space) to connect with an edge (or 'q' to quit): \n",
            "q\n"
          ]
        },
        {
          "output_type": "display_data",
          "data": {
            "text/plain": [
              "<Figure size 640x480 with 1 Axes>"
            ],
            "image/png": "[encoded data removed]"
          },
          "metadata": {}
        }
      ]
    },
    {
      "cell_type": "code",
      "source": [],
      "metadata": {
        "id": "XKQ-oFINGhKT"
      },
      "execution_count": null,
      "outputs": []
    }
  ]
}